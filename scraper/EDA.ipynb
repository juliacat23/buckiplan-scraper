{
 "cells": [
  {
   "cell_type": "code",
   "execution_count": 2,
   "metadata": {},
   "outputs": [],
   "source": [
    "\n",
    "import csv\n",
    "import json\n",
    "import pandas as pd"
   ]
  },
  {
   "cell_type": "code",
   "execution_count": 88,
   "metadata": {},
   "outputs": [],
   "source": [
    "courses = pd.read_csv(\"data/courses.csv\")\n",
    "del courses['index']\n",
    "del courses['id']\n",
    "courses[['description','prereqs']] = courses.description.str.split(pat = 'Prereq', n=1, expand=True)\n",
    "courses['prereqs'] = courses['prereqs'].str.replace(r':', '')\n",
    "courses = courses[courses.columns[0:2]]\n",
    "courses.to_csv(\"data/prereqs.csv\", index=False) \n",
    "\n"
   ]
  },
  {
   "cell_type": "code",
   "execution_count": 1,
   "metadata": {},
   "outputs": [
    {
     "ename": "SyntaxError",
     "evalue": "invalid syntax (4185333887.py, line 22)",
     "output_type": "error",
     "traceback": [
      "\u001b[0;36m  Input \u001b[0;32mIn [1]\u001b[0;36m\u001b[0m\n\u001b[0;31m    course_id[\"details\"].append([\"course_id\": course_id])\u001b[0m\n\u001b[0m                                            ^\u001b[0m\n\u001b[0;31mSyntaxError\u001b[0m\u001b[0;31m:\u001b[0m invalid syntax\n"
     ]
    }
   ],
   "source": [
    "allSubjects = dict()\n",
    "hasHeader = True\n",
    "with open(\"data/prereqs.csv\") as f:\n",
    "    csvreader = csv.reader(f)\n",
    "    if hasHeader: next(csvreader) # Consume one line if a header exists\n",
    "\n",
    "    # Iterate over the rows, and unpack each row into three variables\n",
    "    for subject, course_id, course_title, catalog_level in csvreader:\n",
    "        # If the team hasn't been processed yet, create a new dict for it\n",
    "        if subject not in allSubjects:\n",
    "            allSubjects[subject] = dict()\n",
    "\n",
    "        # Get the dict object that holds this team's information\n",
    "        subject_dict = allSubjects[subject]\n",
    "\n",
    "        # If the tournament hasn't been processed already for this team, create a new dict for it in the team's dict\n",
    "        if course_id not in subject_dict:\n",
    "            subject_dict[course_id] = {\"details\": []}\n",
    "\n",
    "        # Get the tournament dict object\n",
    "        course_id = subject_dict[course_id]\n",
    "        course_id[\"details\"].append([\"course_id\": course_id])\n",
    "        course_id[\"details\"].append({\"catalog_level\": catalog_level})\n",
    "        \n",
    "\n",
    "        # Add this player's information to the tournament dict's \"player\" list\n",
    "\n",
    "# Add all teams' data to the \"data\" key in our result dict\n",
    "result = {\"data\": allSubjects}\n",
    "\n",
    "json_string = json.dumps(result)\n",
    "\n",
    "with open('json_data.json', 'w') as outfile:\n",
    "    json.dump(json_string, outfile)\n"
   ]
  },
  {
   "cell_type": "code",
   "execution_count": null,
   "metadata": {},
   "outputs": [],
   "source": [
    "from collections import defaultdict\n",
    "\n",
    "df = pd.read_csv(\"data/prereqs.csv\")\n",
    "\n",
    "json_doc = defaultdict(list)\n",
    "for _id in df.T:\n",
    "    data = df.T[_id]\n",
    "    key = data.subject\n",
    "    for elt in json[key]:\n",
    "        "
   ]
  }
 ],
 "metadata": {
  "interpreter": {
   "hash": "6d9cc97668670d3ae1cb9485e52ba56bfc29eed94c85c5fd00718c84ce58fdc4"
  },
  "kernelspec": {
   "display_name": "Python 3.10.4 ('scraper')",
   "language": "python",
   "name": "python3"
  },
  "language_info": {
   "codemirror_mode": {
    "name": "ipython",
    "version": 3
   },
   "file_extension": ".py",
   "mimetype": "text/x-python",
   "name": "python",
   "nbconvert_exporter": "python",
   "pygments_lexer": "ipython3",
   "version": "3.10.4"
  },
  "orig_nbformat": 4
 },
 "nbformat": 4,
 "nbformat_minor": 2
}
