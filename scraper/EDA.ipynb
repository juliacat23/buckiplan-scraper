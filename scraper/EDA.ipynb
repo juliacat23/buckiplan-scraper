{
 "cells": [
  {
   "cell_type": "code",
   "execution_count": 2,
   "metadata": {},
   "outputs": [],
   "source": [
    "\n",
    "import csv\n",
    "import json\n",
    "import numpy as np\n",
    "import pandas as pd"
   ]
  },
  {
   "cell_type": "code",
   "execution_count": 88,
   "metadata": {},
   "outputs": [],
   "source": [
    "courses = pd.read_csv(\"data/courses.csv\")\n",
    "del courses['index']\n",
    "del courses['id']\n",
    "courses[['description','prereqs']] = courses.description.str.split(pat = 'Prereq', n=1, expand=True)\n",
    "courses['prereqs'] = courses['prereqs'].str.replace(r':', '')\n",
    "courses = courses[courses.columns[0:2]]\n",
    "courses.to_csv(\"data/prereqs.csv\", index=False) \n",
    "\n"
   ]
  },
  {
   "cell_type": "code",
   "execution_count": null,
   "metadata": {},
   "outputs": [],
   "source": [
    "allSubjects = dict()\n",
    "hasHeader = True\n",
    "with open(\"data/prereqs.csv\") as f:\n",
    "    csvreader = csv.reader(f)\n",
    "    if hasHeader: next(csvreader) # Consume one line if a header exists\n",
    "\n",
    "    # Iterate over the rows, and unpack each row into three variables\n",
    "    for subject, course_id, course_title, catalog_level in csvreader:\n",
    "        # If the team hasn't been processed yet, create a new dict for it\n",
    "        if subject not in allSubjects:\n",
    "            allSubjects[subject] = dict()\n",
    "\n",
    "        # Get the dict object that holds this team's information\n",
    "        subject_dict = allSubjects[subject]\n",
    "\n",
    "        # If the tournament hasn't been processed already for this team, create a new dict for it in the team's dict\n",
    "        if course_id not in subject_dict:\n",
    "            subject_dict[course_id] = {\"details\": []}\n",
    "\n",
    "        # Get the tournament dict object\n",
    "        course_id = subject_dict[course_id]\n",
    "        \n",
    "\n",
    "        # Add this player's information to the tournament dict's \"player\" list\n",
    "\n",
    "# Add all teams' data to the \"data\" key in our result dict\n",
    "result = {\"data\": allSubjects}\n",
    "\n",
    "json_string = json.dumps(result)\n",
    "\n",
    "with open('json_data.json', 'w') as outfile:\n",
    "    json.dump(json_string, outfile)\n"
   ]
  },
  {
   "cell_type": "code",
   "execution_count": 4,
   "metadata": {},
   "outputs": [],
   "source": [
    "df = pd.read_csv(\"data/sections.csv\")\n",
    "df.drop_duplicates(subset=[\"course_id\", \"terms\"], keep=\"first\", inplace=True)\n",
    "df = df.groupby(['course_id'])['terms'].agg(lambda x: ', '.join(x)).reset_index()\n",
    "\n",
    "df['terms'] = np.where((df['terms'] == 'Autumn 2022, Summer 2022'),'Fall, Summer',df['terms'])\n",
    "df['terms'] = np.where((df['terms'] == 'Autumn 2022, Spring 2022'),'Fall, Spring',df['terms'])\n",
    "df['terms'] = np.where((df['terms'] == 'Autumn 2022, Spring 2022, Summer 2022'),'Fall, Spring, Summer',df['terms'])\n",
    "df['terms'] = np.where((df['terms'] == 'Spring 2022, Summer 2022'),'Spring, Summer',df['terms'])\n",
    "df['terms'] = np.where((df['terms'] == 'Autumn 2022'),'Fall',df['terms'])\n",
    "df['terms'] = np.where((df['terms'] == 'Spring 2022'),'Spring',df['terms'])\n",
    "df['terms'] = np.where((df['terms'] == 'Summer 2022'),'Summer',df['terms'])\n"
   ]
  },
  {
   "cell_type": "code",
   "execution_count": 14,
   "metadata": {},
   "outputs": [],
   "source": [
    "courses = pd.read_csv(\"data/courses.csv\")\n",
    "merged = courses.merge(df,  on='course_id')\n",
    "merged['academic_group'] = np.where((merged['subject'] == 'PHR'),'Pharmacy',merged['academic_group'])\n",
    "merged['academic_group'] = np.where((merged['subject'] == 'LAW'),'Law',merged['academic_group'])\n",
    "merged['academic_group'] = np.where((merged['subject'] == 'NURSING'),'Nursing',merged['academic_group'])\n",
    "merged['academic_group'] = np.where((merged['subject'] == 'PUBAFRS'),'John Glenn',merged['academic_group'])\n",
    "merged['academic_group'] = np.where((merged['subject'] == 'PUBHBIO'),'Public Health',merged['academic_group'])\n",
    "merged['academic_group'] = np.where((merged['subject'] == 'PUBHEHS'),'Public Health',merged['academic_group'])\n",
    "merged['academic_group'] = np.where((merged['subject'] == 'PUBHEPI'),'Public Health',merged['academic_group'])\n",
    "merged['academic_group'] = np.where((merged['subject'] == 'PUBHHBP'),'Public Health',merged['academic_group'])\n",
    "merged['academic_group'] = np.where((merged['subject'] == 'PUBHHMP'),'Public Health',merged['academic_group'])\n",
    "merged['academic_group'] = np.where((merged['subject'] == 'PUBHLTH'),'Public Health',merged['academic_group'])\n",
    "\n",
    "\n",
    "\n",
    "merged.to_csv(\"data/coursesWithSemesters.csv\", index=False)"
   ]
  }
 ],
 "metadata": {
  "interpreter": {
   "hash": "6d9cc97668670d3ae1cb9485e52ba56bfc29eed94c85c5fd00718c84ce58fdc4"
  },
  "kernelspec": {
   "display_name": "Python 3.10.4 ('scraper')",
   "language": "python",
   "name": "python3"
  },
  "language_info": {
   "codemirror_mode": {
    "name": "ipython",
    "version": 3
   },
   "file_extension": ".py",
   "mimetype": "text/x-python",
   "name": "python",
   "nbconvert_exporter": "python",
   "pygments_lexer": "ipython3",
   "version": "3.10.4"
  },
  "orig_nbformat": 4
 },
 "nbformat": 4,
 "nbformat_minor": 2
}
